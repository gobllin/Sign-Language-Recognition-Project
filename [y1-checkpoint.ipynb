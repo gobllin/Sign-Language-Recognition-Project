{
 "cells": [
  {
   "cell_type": "markdown",
   "id": "da6ac3ff",
   "metadata": {},
   "source": [
    "# 1. Import and Install Dependencies"
   ]
  },
  {
   "cell_type": "code",
   "execution_count": 3,
   "id": "01ec899a",
   "metadata": {
    "collapsed": true
   },
   "outputs": [
    {
     "name": "stdout",
     "output_type": "stream",
     "text": [
      "Requirement already satisfied: tensorflow==2.5.1 in c:\\users\\akram\\anaconda3\\lib\\site-packages (2.5.1)\n",
      "Requirement already satisfied: tensorflow-gpu==2.5.1 in c:\\users\\akram\\anaconda3\\lib\\site-packages (2.5.1)\n",
      "Requirement already satisfied: opencv-python in c:\\users\\akram\\anaconda3\\lib\\site-packages (4.7.0.72)\n",
      "Requirement already satisfied: mediapipe in c:\\users\\akram\\anaconda3\\lib\\site-packages (0.8.11)\n",
      "Collecting mediapipe\n",
      "  Using cached mediapipe-0.9.2.1-cp39-cp39-win_amd64.whl (50.1 MB)\n",
      "Requirement already satisfied: scikit-learn in c:\\users\\akram\\anaconda3\\lib\\site-packages (1.2.2)\n",
      "Requirement already satisfied: matplotlib in c:\\users\\akram\\anaconda3\\lib\\site-packages (3.6.3)\n",
      "Collecting matplotlib\n",
      "  Using cached matplotlib-3.7.1-cp39-cp39-win_amd64.whl (7.6 MB)\n",
      "Requirement already satisfied: tensorflow-estimator<2.6.0,>=2.5.0 in c:\\users\\akram\\anaconda3\\lib\\site-packages (from tensorflow==2.5.1) (2.5.0)\n",
      "Requirement already satisfied: absl-py~=0.10 in c:\\users\\akram\\anaconda3\\lib\\site-packages (from tensorflow==2.5.1) (0.15.0)\n",
      "Requirement already satisfied: tensorboard~=2.5 in c:\\users\\akram\\anaconda3\\lib\\site-packages (from tensorflow==2.5.1) (2.11.2)\n",
      "Requirement already satisfied: gast==0.4.0 in c:\\users\\akram\\anaconda3\\lib\\site-packages (from tensorflow==2.5.1) (0.4.0)\n",
      "Requirement already satisfied: typing-extensions~=3.7.4 in c:\\users\\akram\\anaconda3\\lib\\site-packages (from tensorflow==2.5.1) (3.7.4.3)\n",
      "Requirement already satisfied: google-pasta~=0.2 in c:\\users\\akram\\anaconda3\\lib\\site-packages (from tensorflow==2.5.1) (0.2.0)\n",
      "Requirement already satisfied: grpcio~=1.34.0 in c:\\users\\akram\\anaconda3\\lib\\site-packages (from tensorflow==2.5.1) (1.34.1)\n",
      "Requirement already satisfied: protobuf>=3.9.2 in c:\\users\\akram\\anaconda3\\lib\\site-packages (from tensorflow==2.5.1) (3.20.3)\n",
      "Requirement already satisfied: keras-preprocessing~=1.1.2 in c:\\users\\akram\\anaconda3\\lib\\site-packages (from tensorflow==2.5.1) (1.1.2)\n",
      "Requirement already satisfied: keras-nightly~=2.5.0.dev in c:\\users\\akram\\anaconda3\\lib\\site-packages (from tensorflow==2.5.1) (2.5.0.dev2021032900)\n",
      "Requirement already satisfied: numpy~=1.19.2 in c:\\users\\akram\\anaconda3\\lib\\site-packages (from tensorflow==2.5.1) (1.19.5)\n",
      "Requirement already satisfied: six~=1.15.0 in c:\\users\\akram\\anaconda3\\lib\\site-packages (from tensorflow==2.5.1) (1.15.0)\n",
      "Requirement already satisfied: flatbuffers~=1.12.0 in c:\\users\\akram\\anaconda3\\lib\\site-packages (from tensorflow==2.5.1) (1.12)\n",
      "Requirement already satisfied: astunparse~=1.6.3 in c:\\users\\akram\\anaconda3\\lib\\site-packages (from tensorflow==2.5.1) (1.6.3)\n",
      "Requirement already satisfied: termcolor~=1.1.0 in c:\\users\\akram\\anaconda3\\lib\\site-packages (from tensorflow==2.5.1) (1.1.0)\n",
      "Requirement already satisfied: wrapt~=1.12.1 in c:\\users\\akram\\anaconda3\\lib\\site-packages (from tensorflow==2.5.1) (1.12.1)\n",
      "Requirement already satisfied: h5py~=3.1.0 in c:\\users\\akram\\anaconda3\\lib\\site-packages (from tensorflow==2.5.1) (3.1.0)\n",
      "Requirement already satisfied: wheel~=0.35 in c:\\users\\akram\\anaconda3\\lib\\site-packages (from tensorflow==2.5.1) (0.37.1)\n",
      "Requirement already satisfied: opt-einsum~=3.3.0 in c:\\users\\akram\\anaconda3\\lib\\site-packages (from tensorflow==2.5.1) (3.3.0)\n",
      "Requirement already satisfied: attrs>=19.1.0 in c:\\users\\akram\\anaconda3\\lib\\site-packages (from mediapipe) (21.4.0)\n",
      "Requirement already satisfied: opencv-contrib-python in c:\\users\\akram\\anaconda3\\lib\\site-packages (from mediapipe) (4.7.0.72)\n",
      "Collecting mediapipe\n",
      "  Using cached mediapipe-0.9.1.0-cp39-cp39-win_amd64.whl (49.8 MB)\n",
      "  Using cached mediapipe-0.9.0.1-cp39-cp39-win_amd64.whl (49.8 MB)\n",
      "  Using cached mediapipe-0.9.0-cp39-cp39-win_amd64.whl (49.8 MB)\n",
      "Requirement already satisfied: joblib>=1.1.1 in c:\\users\\akram\\anaconda3\\lib\\site-packages (from scikit-learn) (1.2.0)\n",
      "Requirement already satisfied: scipy>=1.3.2 in c:\\users\\akram\\anaconda3\\lib\\site-packages (from scikit-learn) (1.9.1)\n",
      "Requirement already satisfied: threadpoolctl>=2.0.0 in c:\\users\\akram\\anaconda3\\lib\\site-packages (from scikit-learn) (2.2.0)\n",
      "Collecting matplotlib\n",
      "  Using cached matplotlib-3.7.0-cp39-cp39-win_amd64.whl (7.6 MB)\n",
      "Requirement already satisfied: pyparsing>=2.2.1 in c:\\users\\akram\\anaconda3\\lib\\site-packages (from matplotlib) (3.0.9)\n",
      "Requirement already satisfied: cycler>=0.10 in c:\\users\\akram\\anaconda3\\lib\\site-packages (from matplotlib) (0.11.0)\n",
      "Requirement already satisfied: pillow>=6.2.0 in c:\\users\\akram\\anaconda3\\lib\\site-packages (from matplotlib) (9.2.0)\n",
      "Requirement already satisfied: contourpy>=1.0.1 in c:\\users\\akram\\anaconda3\\lib\\site-packages (from matplotlib) (1.0.7)\n",
      "Requirement already satisfied: python-dateutil>=2.7 in c:\\users\\akram\\anaconda3\\lib\\site-packages (from matplotlib) (2.8.2)\n",
      "Requirement already satisfied: packaging>=20.0 in c:\\users\\akram\\anaconda3\\lib\\site-packages (from matplotlib) (21.3)\n",
      "Requirement already satisfied: kiwisolver>=1.0.1 in c:\\users\\akram\\anaconda3\\lib\\site-packages (from matplotlib) (1.4.2)\n",
      "Requirement already satisfied: fonttools>=4.22.0 in c:\\users\\akram\\anaconda3\\lib\\site-packages (from matplotlib) (4.25.0)\n",
      "Requirement already satisfied: google-auth<3,>=1.6.3 in c:\\users\\akram\\anaconda3\\lib\\site-packages (from tensorboard~=2.5->tensorflow==2.5.1) (2.17.3)\n",
      "Requirement already satisfied: markdown>=2.6.8 in c:\\users\\akram\\anaconda3\\lib\\site-packages (from tensorboard~=2.5->tensorflow==2.5.1) (3.3.4)\n",
      "Requirement already satisfied: werkzeug>=1.0.1 in c:\\users\\akram\\anaconda3\\lib\\site-packages (from tensorboard~=2.5->tensorflow==2.5.1) (2.0.3)\n",
      "Requirement already satisfied: tensorboard-data-server<0.7.0,>=0.6.0 in c:\\users\\akram\\anaconda3\\lib\\site-packages (from tensorboard~=2.5->tensorflow==2.5.1) (0.6.1)\n",
      "Requirement already satisfied: setuptools>=41.0.0 in c:\\users\\akram\\anaconda3\\lib\\site-packages (from tensorboard~=2.5->tensorflow==2.5.1) (63.4.1)\n",
      "Requirement already satisfied: google-auth-oauthlib<0.5,>=0.4.1 in c:\\users\\akram\\anaconda3\\lib\\site-packages (from tensorboard~=2.5->tensorflow==2.5.1) (0.4.6)\n",
      "Requirement already satisfied: requests<3,>=2.21.0 in c:\\users\\akram\\anaconda3\\lib\\site-packages (from tensorboard~=2.5->tensorflow==2.5.1) (2.28.1)\n",
      "Requirement already satisfied: tensorboard-plugin-wit>=1.6.0 in c:\\users\\akram\\anaconda3\\lib\\site-packages (from tensorboard~=2.5->tensorflow==2.5.1) (1.8.1)\n",
      "Requirement already satisfied: rsa<5,>=3.1.4 in c:\\users\\akram\\anaconda3\\lib\\site-packages (from google-auth<3,>=1.6.3->tensorboard~=2.5->tensorflow==2.5.1) (4.9)\n",
      "Requirement already satisfied: cachetools<6.0,>=2.0.0 in c:\\users\\akram\\anaconda3\\lib\\site-packages (from google-auth<3,>=1.6.3->tensorboard~=2.5->tensorflow==2.5.1) (5.3.0)\n",
      "Requirement already satisfied: pyasn1-modules>=0.2.1 in c:\\users\\akram\\anaconda3\\lib\\site-packages (from google-auth<3,>=1.6.3->tensorboard~=2.5->tensorflow==2.5.1) (0.2.8)\n",
      "Requirement already satisfied: requests-oauthlib>=0.7.0 in c:\\users\\akram\\anaconda3\\lib\\site-packages (from google-auth-oauthlib<0.5,>=0.4.1->tensorboard~=2.5->tensorflow==2.5.1) (1.3.1)\n",
      "Requirement already satisfied: urllib3<1.27,>=1.21.1 in c:\\users\\akram\\anaconda3\\lib\\site-packages (from requests<3,>=2.21.0->tensorboard~=2.5->tensorflow==2.5.1) (1.26.11)\n",
      "Requirement already satisfied: charset-normalizer<3,>=2 in c:\\users\\akram\\anaconda3\\lib\\site-packages (from requests<3,>=2.21.0->tensorboard~=2.5->tensorflow==2.5.1) (2.0.4)\n",
      "Requirement already satisfied: idna<4,>=2.5 in c:\\users\\akram\\anaconda3\\lib\\site-packages (from requests<3,>=2.21.0->tensorboard~=2.5->tensorflow==2.5.1) (3.3)\n",
      "Requirement already satisfied: certifi>=2017.4.17 in c:\\users\\akram\\anaconda3\\lib\\site-packages (from requests<3,>=2.21.0->tensorboard~=2.5->tensorflow==2.5.1) (2022.9.14)\n",
      "Requirement already satisfied: pyasn1<0.5.0,>=0.4.6 in c:\\users\\akram\\anaconda3\\lib\\site-packages (from pyasn1-modules>=0.2.1->google-auth<3,>=1.6.3->tensorboard~=2.5->tensorflow==2.5.1) (0.4.8)\n",
      "Requirement already satisfied: oauthlib>=3.0.0 in c:\\users\\akram\\anaconda3\\lib\\site-packages (from requests-oauthlib>=0.7.0->google-auth-oauthlib<0.5,>=0.4.1->tensorboard~=2.5->tensorflow==2.5.1) (3.2.2)\n"
     ]
    }
   ],
   "source": [
    "!pip install tensorflow==2.5.1 tensorflow-gpu==2.5.1 opencv-python mediapipe -U scikit-learn matplotlib  "
   ]
  },
  {
   "cell_type": "code",
   "execution_count": 4,
   "id": "5d9b8d96",
   "metadata": {},
   "outputs": [],
   "source": [
    "import cv2\n",
    "import numpy as np\n",
    "import os\n",
    "from matplotlib import pyplot as plt\n",
    "import time\n",
    "import mediapipe as mp"
   ]
  },
  {
   "cell_type": "markdown",
   "id": "98dbb91c",
   "metadata": {},
   "source": [
    "# 2. Keypoints using MP Holistic"
   ]
  },
  {
   "cell_type": "code",
   "execution_count": 5,
   "id": "46f6aff3",
   "metadata": {
    "scrolled": true
   },
   "outputs": [
    {
     "ename": "AttributeError",
     "evalue": "module 'mediapipe.python.solutions' has no attribute 'Holistic'",
     "output_type": "error",
     "traceback": [
      "\u001b[1;31m---------------------------------------------------------------------------\u001b[0m",
      "\u001b[1;31mAttributeError\u001b[0m                            Traceback (most recent call last)",
      "\u001b[1;32m~\\AppData\\Local\\Temp\\ipykernel_19472\\1368752868.py\u001b[0m in \u001b[0;36m<module>\u001b[1;34m\u001b[0m\n\u001b[1;32m----> 1\u001b[1;33m \u001b[0mmp_holistic\u001b[0m \u001b[1;33m=\u001b[0m \u001b[0mmp\u001b[0m\u001b[1;33m.\u001b[0m\u001b[0msolutions\u001b[0m\u001b[1;33m.\u001b[0m\u001b[0mHolistic\u001b[0m\u001b[1;33m\u001b[0m\u001b[1;33m\u001b[0m\u001b[0m\n\u001b[0m\u001b[0;32m      2\u001b[0m \u001b[0mmp_drawing\u001b[0m \u001b[1;33m=\u001b[0m \u001b[0mmp\u001b[0m\u001b[1;33m.\u001b[0m\u001b[0msolution\u001b[0m\u001b[1;33m.\u001b[0m\u001b[0mdrawing_utils\u001b[0m\u001b[1;33m\u001b[0m\u001b[1;33m\u001b[0m\u001b[0m\n",
      "\u001b[1;31mAttributeError\u001b[0m: module 'mediapipe.python.solutions' has no attribute 'Holistic'"
     ]
    }
   ],
   "source": [
    "mp_holistic = mp.solutions.Holistic\n",
    "mp_drawing = mp.solution.drawing_utils"
   ]
  },
  {
   "cell_type": "code",
   "execution_count": 38,
   "id": "2f4ff41a",
   "metadata": {},
   "outputs": [],
   "source": [
    "def mediapipe_detection(image, model):\n",
    "    image = cv2.cvtColor(image, cv2.COLOR_BGR2RGB)  #converting color to BGR 2 RGB\n",
    "    image.flags.writeable = False                   #image is no longer writeable\n",
    "    results = model.process(image)                  # Make prediction\n",
    "    image.flags.writeable = True                    #image is now writeable\n",
    "    image = cv2.cvtColot(image, cv2.COLOR_RGB2BGR)  #RGB 2 BGR\n",
    "    return image, results"
   ]
  },
  {
   "cell_type": "code",
   "execution_count": 30,
   "id": "29ad3ca0",
   "metadata": {},
   "outputs": [
    {
     "ename": "NameError",
     "evalue": "name 'mp_holistic' is not defined",
     "output_type": "error",
     "traceback": [
      "\u001b[1;31m---------------------------------------------------------------------------\u001b[0m",
      "\u001b[1;31mNameError\u001b[0m                                 Traceback (most recent call last)",
      "\u001b[1;32m~\\AppData\\Local\\Temp\\ipykernel_4856\\3127762119.py\u001b[0m in \u001b[0;36m<module>\u001b[1;34m\u001b[0m\n\u001b[0;32m      1\u001b[0m \u001b[0mcap\u001b[0m \u001b[1;33m=\u001b[0m \u001b[0mcv2\u001b[0m\u001b[1;33m.\u001b[0m\u001b[0mVideoCapture\u001b[0m\u001b[1;33m(\u001b[0m\u001b[1;36m0\u001b[0m\u001b[1;33m)\u001b[0m\u001b[1;33m\u001b[0m\u001b[1;33m\u001b[0m\u001b[0m\n\u001b[0;32m      2\u001b[0m \u001b[1;31m#setting up mediapipe model\u001b[0m\u001b[1;33m\u001b[0m\u001b[1;33m\u001b[0m\u001b[0m\n\u001b[1;32m----> 3\u001b[1;33m \u001b[1;32mwith\u001b[0m \u001b[0mmp_holistic\u001b[0m\u001b[1;33m.\u001b[0m\u001b[0mHolistic\u001b[0m\u001b[1;33m(\u001b[0m\u001b[0mmin_detection_confidence\u001b[0m \u001b[1;33m=\u001b[0m \u001b[1;36m0.5\u001b[0m\u001b[1;33m,\u001b[0m \u001b[0mmin_tracking_confidence\u001b[0m \u001b[1;33m=\u001b[0m \u001b[1;36m0.5\u001b[0m\u001b[1;33m)\u001b[0m \u001b[1;32mas\u001b[0m \u001b[0mholistic\u001b[0m\u001b[1;33m:\u001b[0m\u001b[1;33m\u001b[0m\u001b[1;33m\u001b[0m\u001b[0m\n\u001b[0m\u001b[0;32m      4\u001b[0m     \u001b[1;32mwhile\u001b[0m \u001b[0mcap\u001b[0m\u001b[1;33m.\u001b[0m\u001b[0misOpened\u001b[0m\u001b[1;33m(\u001b[0m\u001b[1;33m)\u001b[0m\u001b[1;33m:\u001b[0m\u001b[1;33m\u001b[0m\u001b[1;33m\u001b[0m\u001b[0m\n\u001b[0;32m      5\u001b[0m \u001b[1;33m\u001b[0m\u001b[0m\n",
      "\u001b[1;31mNameError\u001b[0m: name 'mp_holistic' is not defined"
     ]
    }
   ],
   "source": [
    "cap = cv2.VideoCapture(0)\n",
    "#setting up mediapipe model\n",
    "with mp_holistic.Holistic(min_detection_confidence = 0.5, min_tracking_confidence = 0.5) as holistic:\n",
    "    while cap.isOpened():\n",
    "        \n",
    "        ret, frame = cap.read()\n",
    "        \n",
    "        image, results = mrediapipe_detection(frame, holistic)\n",
    "        print(results)\n",
    "        \n",
    "        cv2.imshow('openCV Feed', frame)\n",
    "        \n",
    "        if cv2.waitKey(10) &  0xFF == ord('q'):\n",
    "            break\n",
    "    cap.release()\n",
    "    cv2.destroyALLWindows()"
   ]
  },
  {
   "cell_type": "code",
   "execution_count": null,
   "id": "e1706e9b",
   "metadata": {},
   "outputs": [],
   "source": []
  }
 ],
 "metadata": {
  "kernelspec": {
   "display_name": "Python 3 (ipykernel)",
   "language": "python",
   "name": "python3"
  },
  "language_info": {
   "codemirror_mode": {
    "name": "ipython",
    "version": 3
   },
   "file_extension": ".py",
   "mimetype": "text/x-python",
   "name": "python",
   "nbconvert_exporter": "python",
   "pygments_lexer": "ipython3",
   "version": "3.9.13"
  }
 },
 "nbformat": 4,
 "nbformat_minor": 5
}
